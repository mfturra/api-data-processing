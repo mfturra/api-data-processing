{
 "cells": [
  {
   "cell_type": "markdown",
   "metadata": {},
   "source": [
    "### 0.0 Download Required Libraries"
   ]
  },
  {
   "cell_type": "code",
   "execution_count": null,
   "metadata": {},
   "outputs": [],
   "source": [
    "# %pip install pandas\n",
    "# %pip install xlwt openpyxl xlsxwriter xlrd\n",
    "# %pip install glob"
   ]
  },
  {
   "cell_type": "markdown",
   "metadata": {},
   "source": [
    "### 1.0 Extract User Outreach Metrics & Insights Based on Campaign #1"
   ]
  },
  {
   "cell_type": "markdown",
   "metadata": {},
   "source": [
    "#### 1.1 Import and Merge all Data Sets in Folder in Pandas DataFrame"
   ]
  },
  {
   "cell_type": "code",
   "execution_count": null,
   "metadata": {},
   "outputs": [],
   "source": [
    "# Import libraries\n",
    "import os\n",
    "import glob\n",
    "import pandas as pd\n",
    "\n",
    "dataset_folder = r'C:\\Users\\MT\\home\\campaign1'\n",
    "os.chdir(dataset_folder)\n",
    "\n",
    "raw_outreach_campaign_dataset = pd.DataFrame()\n",
    "\n",
    "# read complete data set held within folder\n",
    "for file in glob.glob('*.csv'):\n",
    "    with open(file, 'rb') as csvfile:\n",
    "        df = pd.read_csv(csvfile)\n",
    "\n",
    "        # output filename to assist with troubleshooting\n",
    "        # print(csvfile)\n",
    "    \n",
    "        # extract raw campaign name\n",
    "        raw_campaign_name = df.columns[19]\n",
    "        campaign_name = raw_campaign_name.replace(\"Campaign :: Filter: \", \"\")\n",
    "        \n",
    "        # Remove all spaces in column titles & extract campaign shortname\n",
    "        df.columns = df.columns.str.replace(' ','')\n",
    "        shrt_campaign_name = campaign_name.replace(' ','')\n",
    "\n",
    "        # append additional data sets raw_outreach_campaign1 dataframe\n",
    "        raw_outreach_campaign1 = pd.concat([raw_outreach_campaign1, pd.DataFrame(df)], ignore_index=True)\n",
    "\n",
    "# output raw data into dataframe\n",
    "raw_outreach_campaign1"
   ]
  },
  {
   "cell_type": "markdown",
   "metadata": {},
   "source": [
    "#### 1.2 Apply Filters to DataFrame to Extract Outreached Users"
   ]
  },
  {
   "cell_type": "code",
   "execution_count": null,
   "metadata": {},
   "outputs": [],
   "source": [
    "# create empty DataFrame for outreach df\n",
    "outreach_campaign1 = raw_outreach_campaign1\n",
    "\n",
    "# create filters that consider all possible true values in data set based on API documentation\n",
    "condition_allcaps = outreach_campaign1[outreach_campaign1['Campaign::Filter:' + shrt_campaign_name]=='TRUE']\n",
    "condition_all_low = outreach_campaign1[outreach_campaign1['Campaign::Filter:' + shrt_campaign_name]=='true']\n",
    "condition_caps =    outreach_campaign1[outreach_campaign1['Campaign::Filter:' + shrt_campaign_name]=='True']\n",
    "\n",
    "# merge all conditions in a single list\n",
    "all_conditions = [condition_allcaps, condition_all_low, condition_caps]\n",
    "\n",
    "# acquire all outreach metrics that fulfill conditions\n",
    "outreach_campaign1 = pd.concat(all_conditions)\n",
    "\n",
    "# output dataframe\n",
    "outreach_campaign1"
   ]
  },
  {
   "cell_type": "markdown",
   "metadata": {},
   "source": [
    "#### 1.3 Create New Filtered DataFrame"
   ]
  },
  {
   "cell_type": "code",
   "execution_count": null,
   "metadata": {},
   "outputs": [],
   "source": [
    "# create new DataFrame based on specific outreach_campaign1 columns\n",
    "filtered_outreach_campaign1 = pd.DataFrame(outreach_campaign1, columns=['FIRSTNAME', 'LASTNAME', 'Campaign::Sent(UTC)', 'PHONE', 'Campaign::Response'])\n",
    "\n",
    "# output DataFrame to an Excel file\n",
    "filtered_outreach_campaign1.to_excel('CAMPAIGN1_filtered_metrics.xlsx', index=False)"
   ]
  }
 ],
 "metadata": {
  "language_info": {
   "name": "python"
  }
 },
 "nbformat": 4,
 "nbformat_minor": 2
}
