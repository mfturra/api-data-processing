{
 "cells": [
  {
   "cell_type": "markdown",
   "metadata": {},
   "source": [
    "### 0.0 Download Required Libraries"
   ]
  },
  {
   "cell_type": "code",
   "execution_count": null,
   "metadata": {},
   "outputs": [],
   "source": [
    "# %pip install pandas\n",
    "# %pip install xlwt openpyxl xlsxwriter xlrd\n",
    "# %pip install glob"
   ]
  },
  {
   "cell_type": "markdown",
   "metadata": {},
   "source": [
    "### 1.0 Acquire User's Query Insights Data Set through API Request & Process Data\n",
    "#### 1.1 Configure Epoch Time for Specific Data Range"
   ]
  },
  {
   "cell_type": "code",
   "execution_count": 2,
   "metadata": {},
   "outputs": [
    {
     "name": "stdout",
     "output_type": "stream",
     "text": [
      "2024-04-22 01:00:00\n",
      "2024-04-23 01:00:00\n"
     ]
    }
   ],
   "source": [
    "import datetime\n",
    "\n",
    "# configure start date and re: epoch time using datetime library\n",
    "start_date_time = datetime.datetime(2024, 4, 22, 1, 0, 0)\n",
    "start_epoch_time = int(round(start_date_time.timestamp()))\n",
    "\n",
    "# configure end date and re: epoch time using datetime library\n",
    "end_date_time = datetime.datetime(2024, 4, 23, 1, 0, 0)\n",
    "end_epoch_time = int(round(end_date_time.timestamp()))\n",
    "\n",
    "# output start and end date for troubleshooting\n",
    "print(start_date_time)\n",
    "print(end_date_time)"
   ]
  },
  {
   "cell_type": "markdown",
   "metadata": {},
   "source": [
    "#### 1.2 Configure API GET Req for Campaign"
   ]
  },
  {
   "cell_type": "code",
   "execution_count": null,
   "metadata": {},
   "outputs": [],
   "source": [
    "# import libraries\n",
    "import requests\n",
    "import json\n",
    "import pandas as pd\n",
    "\n",
    "# url for user dialogue data set\n",
    "dial_url = 'https://h10.company.com/api/v1/agent/2000/query_insights.json'\n",
    "\n",
    "# credentials for accessing content\n",
    "headers = {\n",
    "    \"Content-Type\": \"application/json\",\n",
    "    \"access-token\": '12345678905bfc72b1234000jht4451234567890'\n",
    "}\n",
    "\n",
    "# submit GET request\n",
    "dialogue_r = requests.get(dial_url, headers=headers, \n",
    "                          params={ 'start_time': start_epoch_time, 'end_time': end_epoch_time, 'offset': -18000, \"page\": 1, \"per_page\": 100 })\n",
    "\n",
    "\n",
    "# Raise exception for different HTTP response conditions\n",
    "dialogue_r.raise_for_status()\n",
    "\n",
    "# output status code for GET request\n",
    "print(dialogue_r.status_code)\n",
    "\n",
    "# store convert response to json format \n",
    "dial_response = dialogue_r.json()\n",
    "\n",
    "# output response in more legible json format\n",
    "print(json.dumps(dial_response, indent=4))"
   ]
  },
  {
   "cell_type": "markdown",
   "metadata": {},
   "source": [
    "#### 1.3 Extract Key Insights from Key-Value Pairs"
   ]
  },
  {
   "cell_type": "code",
   "execution_count": null,
   "metadata": {},
   "outputs": [],
   "source": [
    "# create memory space and data structure\n",
    "queries =                   []\n",
    "qinsightUsers =             []\n",
    "qinsightsCustomProp =       []\n",
    "qinsightsDeliveryStatus =   []\n",
    "qInsightsUserQuery =        []\n",
    "\n",
    "# extract entries key-value pairs\n",
    "queries = dial_response['queries']\n",
    "\n",
    "# extract user parent data\n",
    "for index in queries:\n",
    "    qinsightUsers.append(index['user'])\n",
    "\n",
    "# pull user data into query insights DataFrame\n",
    "qinsightUsersDF = pd.DataFrame(qinsightUsers)\n",
    "\n",
    "# loop through user key-pair to extract custom_property elements\n",
    "for index in qinsightUsers:\n",
    "    qinsightsCustomProp.append(index['custom_properties'])\n",
    "\n",
    "# extract custom properties from users to acquire specific elements\n",
    "qinsightsCustomPropDF = pd.DataFrame(qinsightsCustomProp)\n",
    "\n",
    "# expand view to contain all columns in DataFrame\n",
    "pd.set_option('display.max_columns', None)\n",
    "\n",
    "# output sample size of custom properties DataFrame\n",
    "qinsightsCustomPropDF.head()\n",
    "\n",
    "# # loop through user key-pair to extract user_query elements\n",
    "# for index in queries:\n",
    "#     qInsightsUserQuery.append(index['user_query'])\n",
    "\n",
    "# qInsightsUserQuery = pd.DataFrame(qInsightsUserQuery)\n",
    "\n"
   ]
  },
  {
   "cell_type": "markdown",
   "metadata": {},
   "source": [
    "### 2.0 Acquire User's Outreach Insights Data Set through API Request & Process Data\n",
    "#### 2.1 Configure API GET Req for Campaign"
   ]
  },
  {
   "cell_type": "code",
   "execution_count": null,
   "metadata": {},
   "outputs": [],
   "source": [
    "import requests\n",
    "\n",
    "# url for user outreach data set\n",
    "base_url = \"https://h10.company.com/api/v2/campaigns/insights\"\n",
    "\n",
    "# manual endpoint creation\n",
    "campaign_id = 200\n",
    "execution_id = 2000\n",
    "\n",
    "# validation of user credentials\n",
    "headers = {\n",
    "    \"Content-Type\": \"application/json\",\n",
    "    \"access-token\": '12345678905bfc72b1afe1234567890'\n",
    "}\n",
    "\n",
    "# outline general base vars\n",
    "outreach_r = []\n",
    "page_number = 1\n",
    "\n",
    "# pagination loop to iterate over all pages\n",
    "while True:\n",
    "    # outreach get request\n",
    "    r = requests.get(base_url, headers=headers, params = { 'campaign_id' : campaign_id, \"execution_id\": execution_id,\n",
    "                                                        \"page\": page_number, \"per_page\": 100 })\n",
    "    # error handling and GET request tracker\n",
    "    if page_number % 10 == 0:\n",
    "        print(f\"Processed {page_number} pages\")\n",
    "\n",
    "    if r.status_code != 200:\n",
    "        print(f\"Request failed on page {page_number} with status code {r.status_code}\\n\")\n",
    "\n",
    "        # Raise exception for different HTTP response conditions\n",
    "        outreach_r.raise_for_status()\n",
    "        break\n",
    "    \n",
    "    if len(r.json()) == 0:\n",
    "        break\n",
    "\n",
    "    outreach_r.append(r.json())\n",
    "    page_number += 1\n"
   ]
  },
  {
   "cell_type": "markdown",
   "metadata": {},
   "source": [
    "#### 2.2 Verify & Evaluate Data Pull "
   ]
  },
  {
   "cell_type": "code",
   "execution_count": null,
   "metadata": {},
   "outputs": [],
   "source": [
    "import pandas as pd\n",
    "\n",
    "# convert response to json format in new var \n",
    "info = outreach_r.json()\n",
    "print(len(info))\n",
    "\n",
    "# output data in legible json format\n",
    "print(json.dumps(info, indent=4))\n",
    "\n",
    "# create metrics to be extracted \n",
    "entries = info['entries']\n",
    "users = []\n",
    "campaign_name = []\n",
    "delivery_status = []\n",
    "campaign_filters = []\n",
    "\n",
    "# extract values for all user entries\n",
    "for i in entries:\n",
    "    users.append(i['user'])\n",
    "\n",
    "# extract campaign name for extract\n",
    "campaign_name = entries[0]['filters'][4]['name']\n",
    "\n",
    "# extract delivery_status for all entries\n",
    "for i in entries:\n",
    "    delivery_status.append(i['delivery_status'])\n",
    "\n",
    "# extract campaign details from entries list\n",
    "for index in entries:\n",
    "    campaign_filters.append(i['filters'])\n",
    "\n",
    "\n",
    "# create dataframes with required elements\n",
    "users_metrics =         pd.DataFrame(users)\n",
    "delivery_metrics_df =   pd.DataFrame(delivery_status)\n",
    "campaign_filters_df =   pd.DataFrame(campaign_filters)\n",
    "\n",
    "# extract patients part of outreach campaign \n",
    "outreach_metrics_col = []\n",
    "\n",
    "# pull insights from specific col in DataFrame into new list\n",
    "for index in campaign_filters_df[4]:\n",
    "    outreach_metrics_col.append({'outreach_metrics': index['match']})\n",
    "\n",
    "# convert list into new DataFrames\n",
    "practice = pd.DataFrame(outreach_metrics_col)\n",
    "users_metrics = pd.concat([users_metrics, practice], axis=1)\n",
    "\n",
    "# output users_metrics into DataFrame\n",
    "users_metrics"
   ]
  }
 ],
 "metadata": {
  "kernelspec": {
   "display_name": "Python 3",
   "language": "python",
   "name": "python3"
  },
  "language_info": {
   "codemirror_mode": {
    "name": "ipython",
    "version": 3
   },
   "file_extension": ".py",
   "mimetype": "text/x-python",
   "name": "python",
   "nbconvert_exporter": "python",
   "pygments_lexer": "ipython3",
   "version": "3.11.9"
  }
 },
 "nbformat": 4,
 "nbformat_minor": 2
}
