{
 "cells": [
  {
   "cell_type": "markdown",
   "metadata": {},
   "source": [
    "### 0.0 Download Required Libraries"
   ]
  },
  {
   "cell_type": "code",
   "execution_count": null,
   "metadata": {},
   "outputs": [],
   "source": [
    "# %pip install pandas\n",
    "# %pip install xlwt openpyxl xlsxwriter xlrd\n",
    "# %pip install glob"
   ]
  },
  {
   "cell_type": "markdown",
   "metadata": {},
   "source": [
    "### 1.0 Configure Epoch Time for Specific Data Range"
   ]
  },
  {
   "cell_type": "code",
   "execution_count": 1,
   "metadata": {},
   "outputs": [
    {
     "name": "stdout",
     "output_type": "stream",
     "text": [
      "2024-02-22 13:48:41\n",
      "2024-02-28 13:48:40\n"
     ]
    }
   ],
   "source": [
    "import datetime\n",
    "\n",
    "# configure start date and re: epoch time using datetime library\n",
    "start_date_time = datetime.datetime(2024, 2, 22, 13, 48, 41)\n",
    "start_epoch_time = int(round(start_date_time.timestamp()))\n",
    "\n",
    "# configure end date and re: epoch time using datetime library\n",
    "end_date_time = datetime.datetime(2024, 2, 28, 13, 48, 40)\n",
    "end_epoch_time = int(round(end_date_time.timestamp()))\n",
    "\n",
    "# output start and end date for troubleshooting\n",
    "print(start_date_time)\n",
    "print(end_date_time)"
   ]
  },
  {
   "cell_type": "markdown",
   "metadata": {},
   "source": [
    "### 1.1 Configure API GET Req for Campaign"
   ]
  },
  {
   "cell_type": "code",
   "execution_count": null,
   "metadata": {},
   "outputs": [],
   "source": [
    "# import libraries\n",
    "import requests\n",
    "import json\n",
    "import pandas as pd\n",
    "\n",
    "# url for user dialogue data set\n",
    "dial_url = 'https://h10.company.com/api/v1/agent/2000/query_insights.json'\n",
    "\n",
    "# credentials for accessing content\n",
    "headers = {\n",
    "    \"Content-Type\": \"application/json\",\n",
    "    \"access-token\": '5bfc72b1234000jht445'\n",
    "}\n",
    "\n",
    "# submit GET request\n",
    "dialogue_r = requests.get(dial_url, headers=headers, \n",
    "                          params={'start_time': start_epoch_time, 'end_time': end_epoch_time, 'offset': -18000, \"page\": 1, \"per_page\": 100})\n",
    "\n",
    "\n",
    "# Raise exception for different HTTP response conditions\n",
    "dialogue_r.raise_for_status()\n",
    "\n",
    "# output status code for GET request\n",
    "print(dialogue_r.status_code)\n",
    "\n",
    "# store convert response to json format \n",
    "dial_response = dialogue_r.json()\n",
    "\n",
    "# output response in more legible json format\n",
    "print(json.dumps(dial_response, indent=4))"
   ]
  },
  {
   "cell_type": "markdown",
   "metadata": {},
   "source": [
    "### 1.2 Extract Key Insights from Key-Value Pairs"
   ]
  },
  {
   "cell_type": "code",
   "execution_count": null,
   "metadata": {},
   "outputs": [],
   "source": [
    "# extract entries key-value pairs\n",
    "queries = dial_response['queries']\n",
    "qi_users = []\n",
    "qi_custom_prop = []\n",
    "qi_delivery_status = []\n",
    "\n",
    "# extract user parent data\n",
    "for index in queries:\n",
    "    qi_users.append(index['user'])\n",
    "\n",
    "# pull user data into query insights DataFrame\n",
    "qi_users_df = pd.DataFrame(qi_users)\n",
    "\n",
    "# loop through user key-pair to extract custom_property elements\n",
    "for index in qi_users:\n",
    "    qi_custom_prop.append(index['custom_properties'])\n",
    "\n",
    "# extract custom properties from users to acquire specific elements\n",
    "qi_custom_prop_df = pd.DataFrame(qi_custom_prop)\n",
    "\n",
    "# expand view to contain all columns in DataFrame\n",
    "pd.set_option('display.max_columns', None)\n",
    "\n",
    "# output sample size of custom properties DataFrame\n",
    "qi_custom_prop_df.head()\n"
   ]
  }
 ],
 "metadata": {
  "kernelspec": {
   "display_name": "Python 3",
   "language": "python",
   "name": "python3"
  },
  "language_info": {
   "codemirror_mode": {
    "name": "ipython",
    "version": 3
   },
   "file_extension": ".py",
   "mimetype": "text/x-python",
   "name": "python",
   "nbconvert_exporter": "python",
   "pygments_lexer": "ipython3",
   "version": "3.11.8"
  }
 },
 "nbformat": 4,
 "nbformat_minor": 2
}
