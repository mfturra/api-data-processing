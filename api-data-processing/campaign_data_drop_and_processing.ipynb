{
 "cells": [
  {
   "cell_type": "markdown",
   "metadata": {},
   "source": [
    "### 0.0 Download Required Libraries"
   ]
  },
  {
   "cell_type": "code",
   "execution_count": null,
   "metadata": {},
   "outputs": [],
   "source": [
    "# %pip install pandas\n",
    "# %pip install xlwt openpyxl xlsxwriter xlrd\n",
    "# %pip install glob"
   ]
  },
  {
   "cell_type": "markdown",
   "metadata": {},
   "source": [
    "### 1.0 Extract User Outreach Metrics & Insights Based on Campaign #1"
   ]
  },
  {
   "cell_type": "markdown",
   "metadata": {},
   "source": [
    "#### 1.1 Import and Merge all Data Sets in Folder in Pandas DataFrame"
   ]
  },
  {
   "cell_type": "code",
   "execution_count": null,
   "metadata": {},
   "outputs": [],
   "source": [
    "# Import libraries\n",
    "import os\n",
    "import glob\n",
    "import pandas as pd\n",
    "\n",
    "dataset_folder = r'C:\\Users\\MT\\home\\campaign1'\n",
    "os.chdir(dataset_folder)\n",
    "\n",
    "raw_outreach_campaign1 = pd.DataFrame()\n",
    "\n",
    "# read complete data set held within folder\n",
    "for file in glob.glob('*.csv'):\n",
    "    with open(file, 'rb') as csvfile:\n",
    "        df = pd.read_csv(csvfile)\n",
    "\n",
    "        # output filename to assist with troubleshooting\n",
    "        # print(csvfile)\n",
    "    \n",
    "        # extract raw campaign name\n",
    "        raw_campaign1_name = df.columns[19]\n",
    "        campaign1_name = raw_campaign1_name.replace(\"Campaign :: Filter: \", \"\")\n",
    "        \n",
    "        # Remove all spaces in column titles & extract campaign shortname\n",
    "        df.columns = df.columns.str.replace(' ','')\n",
    "        shrt_campaign_name = campaign1_name.replace(' ','')\n",
    "\n",
    "        # append additional data sets raw_outreach_campaign1 dataframe\n",
    "        raw_outreach_campaign1 = pd.concat([raw_outreach_campaign1, pd.DataFrame(df)], ignore_index=True)\n",
    "\n",
    "# output raw data into dataframe\n",
    "raw_outreach_campaign1"
   ]
  },
  {
   "cell_type": "markdown",
   "metadata": {},
   "source": [
    "#### 1.2 Apply Filters to DataFrame to Extract Outreached Users"
   ]
  },
  {
   "cell_type": "code",
   "execution_count": null,
   "metadata": {},
   "outputs": [],
   "source": [
    "# create empty DataFrame for outreach df\n",
    "outreach_campaign1 = raw_outreach_campaign1\n",
    "\n",
    "# create filters that consider all possible true values in data set based on API documentation\n",
    "condition_allcaps = outreach_campaign1[outreach_campaign1['Campaign::Filter:' + shrt_campaign_name]=='TRUE']\n",
    "condition_all_low = outreach_campaign1[outreach_campaign1['Campaign::Filter:' + shrt_campaign_name]=='true']\n",
    "condition_caps =    outreach_campaign1[outreach_campaign1['Campaign::Filter:' + shrt_campaign_name]=='True']\n",
    "\n",
    "# merge all conditions in a single list\n",
    "all_conditions = [condition_allcaps, condition_all_low, condition_caps]\n",
    "\n",
    "# acquire all outreach metrics that fulfill conditions\n",
    "outreach_campaign1 = pd.concat(all_conditions)\n",
    "\n",
    "# output dataframe\n",
    "outreach_campaign1"
   ]
  },
  {
   "cell_type": "markdown",
   "metadata": {},
   "source": [
    "#### 1.3 Create New Filtered DataFrame"
   ]
  },
  {
   "cell_type": "code",
   "execution_count": null,
   "metadata": {},
   "outputs": [],
   "source": [
    "# create new DataFrame based on specific outreach_campaign1 columns\n",
    "filtered_outreach_campaign1 = pd.DataFrame(outreach_campaign1, columns=['FIRSTNAME', 'LASTNAME', 'Campaign::Sent(UTC)', 'PHONE', 'Campaign::Response'])\n",
    "\n",
    "# output DataFrame to an Excel file\n",
    "filtered_outreach_campaign1.to_excel('CAMPAIGN1_filtered_metrics.xlsx', index=False)"
   ]
  },
  {
   "cell_type": "markdown",
   "metadata": {},
   "source": [
    "### 2.0 Extract User Outreach Metrics & Insights Based on Campaign #2"
   ]
  },
  {
   "cell_type": "markdown",
   "metadata": {},
   "source": [
    "#### 2.1 Import and Merge all Campaign #2 Data Sets in Pandas DataFrame"
   ]
  },
  {
   "cell_type": "code",
   "execution_count": null,
   "metadata": {},
   "outputs": [],
   "source": [
    "# import libraries\n",
    "import os\n",
    "import glob\n",
    "import pandas as pd\n",
    "\n",
    "dataset_folder = r'C:\\Users\\MT\\home\\campaign2'\n",
    "os.chdir(dataset_folder)\n",
    "\n",
    "raw_outreach_campaign2 = pd.DataFrame()\n",
    "\n",
    "# read all the data inside respective folder\n",
    "for file in glob.glob('*.csv'):\n",
    "    # open a single file\n",
    "    with open(file, 'rb') as csvfile:\n",
    "        # utilize pandas library to open and read the csv file\n",
    "        df = pd.read_csv(csvfile)\n",
    "    \n",
    "        # extract raw campaign name\n",
    "        raw_campaign2_name = df.columns[36]\n",
    "        filtered_campaign2_name = raw_campaign2_name.replace(\"Campaign :: Filter: \", \"\")\n",
    "        \n",
    "        # Remove all spaces in column titles & extract campaign shortname\n",
    "        df.columns = df.columns.str.replace(' ','')\n",
    "        shrt_campaign2_name = filtered_campaign2_name.replace(' ','')\n",
    "\n",
    "        # append rows to end of df dataframe\n",
    "        raw_outreach_campaign2 = pd.concat([raw_outreach_campaign2, pd.DataFrame(df)], ignore_index=True)\n",
    "\n",
    "# output campaign DataFrame or campaign2_name\n",
    "# raw_outreach_campaign2\n",
    "print(filtered_campaign2_name)"
   ]
  },
  {
   "cell_type": "markdown",
   "metadata": {},
   "source": [
    "#### 2.2 Apply Filters to DataFrame to Extract Outreached Users"
   ]
  },
  {
   "cell_type": "code",
   "execution_count": null,
   "metadata": {},
   "outputs": [],
   "source": [
    "# create empty DataFrame for outreach df\n",
    "outreach_campaign2 = raw_outreach_campaign1\n",
    "\n",
    "# create filters that consider all possible true values in data set based on API documentation\n",
    "condition_allcaps = outreach_campaign2[outreach_campaign2['Campaign::Filter:' + shrt_campaign_name]=='TRUE']\n",
    "condition_all_low = outreach_campaign2[outreach_campaign2['Campaign::Filter:' + shrt_campaign_name]=='true']\n",
    "condition_caps =    outreach_campaign2[outreach_campaign2['Campaign::Filter:' + shrt_campaign_name]=='True']\n",
    "\n",
    "# merge all conditions in a single list\n",
    "all_conditions = [condition_allcaps, condition_all_low, condition_caps]\n",
    "\n",
    "# acquire all outreach metrics that fulfill conditions\n",
    "outreach_campaign2 = pd.concat(all_conditions)\n",
    "\n",
    "# set viewing window to reveal all columns in DataFrame\n",
    "pd.set_option('display.max_columns', None)\n",
    "\n",
    "# output sample of dataframe\n",
    "outreach_campaign2.head()"
   ]
  },
  {
   "cell_type": "markdown",
   "metadata": {},
   "source": [
    "#### 2.3 Create New Ref DataFrame and Export to Excel "
   ]
  },
  {
   "cell_type": "code",
   "execution_count": null,
   "metadata": {},
   "outputs": [],
   "source": [
    "# identify length of filtered campaign data set\n",
    "campaign2_df_len = len(outreach_campaign2.index)\n",
    "campaign2_df_index = list(range(campaign2_df_len))\n",
    "\n",
    "# filter solely patient outreach metrics\n",
    "filtered_outreach_campaign2 = pd.DataFrame(outreach_campaign2, columns=['UserName', 'UserID', 'UserRefID', 'Campaign::Sent(UTC)', 'MobileNumber', 'SendSMS', 'Campaign::Response'])\n",
    "\n",
    "# rename column names for end user \n",
    "col_map = {'UserName': 'User Name', 'UserID': 'User ID', \n",
    "            'UserRefID': 'User Ref ID', 'Campaign::Sent(UTC)': 'Campaign Outreach Date (UTC)', \n",
    "            'MobileNumber': 'Mobile Number', 'SendSMS': 'SMS Availability', \n",
    "            'Campaign::Response': 'Campaign Outreach Categorization'}\n",
    "filtered_outreach_campaign2 = filtered_outreach_campaign2.rename(columns=col_map)\n",
    "\n",
    "# reset index for dataframe\n",
    "filtered_outreach_campaign2.reset_index(drop=True)\n",
    "\n",
    "# output DataFrame to an Excel file\n",
    "# filtered_outreach_campaign2.to_excel('CAMPAIGN2_filtered_metrics.xlsx', index=False)\n",
    "\n",
    "# drop duplicates from file for tracking number of outreached users and not sent SMS\n",
    "filtered_outreach_campaign2 = filtered_outreach_campaign2.drop_duplicates()\n",
    "filtered_outreach_campaign2 = filtered_outreach_campaign2.reset_index(drop=True)\n",
    "\n",
    "# output DataFrame\n",
    "filtered_outreach_campaign2"
   ]
  },
  {
   "cell_type": "markdown",
   "metadata": {},
   "source": []
  }
 ],
 "metadata": {
  "language_info": {
   "name": "python"
  }
 },
 "nbformat": 4,
 "nbformat_minor": 2
}
