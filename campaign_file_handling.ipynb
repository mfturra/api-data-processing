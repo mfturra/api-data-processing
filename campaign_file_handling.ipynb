{
 "cells": [
  {
   "cell_type": "markdown",
   "metadata": {},
   "source": [
    "### 1.0 Campaign #1 File Handling & Modifications\n",
    "#### 1.1 Create Duplicate, Drop Specific Rows and Columns, & Rename Campaign #1 File "
   ]
  },
  {
   "cell_type": "code",
   "execution_count": null,
   "metadata": {},
   "outputs": [],
   "source": [
    "import os\n",
    "import shutil\n",
    "import pandas as pd\n",
    "\n",
    "# outline file paths and raw_file_name\n",
    "campaign1_file_path = r'\\\\network\\Team\\MT\\Company\\Campaign1'\n",
    "\n",
    "# config preferred partial file name\n",
    "camp1_partial_file_name = 'CAMPAIGN1_Final'\n",
    "\n",
    "# config preferred duplicate final file name\n",
    "final_campaign1_path = os.path.join(campaign1_file_path, 'CAMPAIGN1_final_test.csv')\n",
    "\n",
    "# change diretory of file path\n",
    "os.chdir(campaign1_file_path)\n",
    "\n",
    "# list files located in folder\n",
    "print('Before copying file')\n",
    "print(os.listdir(campaign1_file_path))\n",
    "\n",
    "# locate files that match with partial name\n",
    "camp1_matching_files = [file for file in os.listdir(campaign1_file_path)\n",
    "                  if camp1_partial_file_name in file]\n",
    "\n",
    "if camp1_matching_files:\n",
    "    # pull first matching file\n",
    "    camp1_src_name = os.path.join(campaign1_file_path, camp1_matching_files[0])\n",
    "\n",
    "    # copy file to specific folder\n",
    "    camp1_duplicate_file = shutil.copy(camp1_src_name, final_campaign1_path)\n",
    "    print(f'{camp1_src_name} duplicated and changed to {final_campaign1_path}')\n",
    "\n",
    "else:\n",
    "    print(f'No file found with partial name {camp1_partial_file_name}')\n",
    "\n",
    "## Remove Specific Columns and Overwrite file\n",
    "# create local space for camp1_df\n",
    "camp1_df = pd.DataFrame()\n",
    "\n",
    "# read csv file and convert it to DataFrame\n",
    "camp1_df = pd.read_csv(final_campaign1_path)\n",
    "camp1_cols_to_delete = ['Description', 'Referred by Person', 'User Name', 'User Last Name', 'User First Name', 'Outreach List']\n",
    "\n",
    "# delete all cols in cols_to_delete list\n",
    "camp1_df = camp1_df.drop(camp1_cols_to_delete, axis=1)\n",
    "\n",
    "# drop all NaN rows in col 'Reference (ID)'\n",
    "camp1_df = camp1_df.dropna(subset=['Reference (ID)'])\n",
    "\n",
    "# drop all rows in col 'Reference (ID)' that have a numerical value that's 7 or greater\n",
    "camp1_df = camp1_df[camp1_df['Reference (ID)'].astype(str).str.len() < 7]\n",
    "\n",
    "# convert DataFrame to csv file and overwrite previously created file\n",
    "camp1_df.to_csv('CAMPAIGN1_final_test.csv', index=False)"
   ]
  }
 ],
 "metadata": {
  "language_info": {
   "name": "python"
  }
 },
 "nbformat": 4,
 "nbformat_minor": 2
}
